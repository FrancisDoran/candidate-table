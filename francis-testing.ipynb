{
 "cells": [
  {
   "cell_type": "code",
   "execution_count": null,
   "metadata": {},
   "outputs": [],
   "source": [
    "import pandas as pd"
   ]
  },
  {
   "cell_type": "code",
   "execution_count": 405,
   "metadata": {},
   "outputs": [],
   "source": [
    "\"\"\" Get stuff out of Netfile v2 API\n",
    "\"\"\"\n",
    "from pprint import PrettyPrinter\n",
    "from pathlib import Path\n",
    "import os\n",
    "import requests\n",
    "\n",
    "BASE_URL = 'https://netfile.com/api/campaign'\n",
    "CONTRIBUTION_FORM = 'F460A'\n",
    "EXPENDITURE_FORM = 'F460E'\n",
    "\n",
    "PARAMS = { 'aid': 'COAK' }\n",
    "\n",
    "def get_auth_from_env_file(filename: str='.env'):\n",
    "    \"\"\" Split .env file on newline and look for API_KEY and API_SECRET\n",
    "        Return their values as a tuple\n",
    "    \"\"\"\n",
    "    env_file=Path(filename)\n",
    "    auth_keys = [ 'API_KEY', 'API_SECRET' ]\n",
    "    if env_file.exists():\n",
    "        auth = tuple( v for _, v in sorted([\n",
    "            ln.split('=') for ln in\n",
    "            env_file.read_text(encoding='utf8').strip().split('\\n')\n",
    "            if ln.startswith(auth_keys[0]) or ln.startswith(auth_keys[1])\n",
    "        ], key=lambda ln: auth_keys.index(ln[0])))\n",
    "    else:\n",
    "        auth=tuple(os.environ[key] for key in auth_keys)\n",
    "            \n",
    "    return auth\n",
    "\n",
    "AUTH=get_auth_from_env_file()\n",
    "\n",
    "pp = PrettyPrinter()\n",
    "\n",
    "def get_filing(offset=0):\n",
    "    \"\"\" Get a filing\n",
    "    \"\"\"\n",
    "    url = f'{BASE_URL}/filing/v101/filings'\n",
    "\n",
    "    params = { **PARAMS }\n",
    "    if offset > 0:\n",
    "        params['offset'] = offset\n",
    "\n",
    "    res = requests.get(url, params=params, auth=AUTH)\n",
    "    body = res.json()\n",
    "    results = body.pop('results')\n",
    "\n",
    "    return results, body\n",
    "def get_filer(filer_nid):\n",
    "    \"\"\" Get one filer\n",
    "    \"\"\"\n",
    "    url = f'{BASE_URL}/filer/v101/filers'\n",
    "\n",
    "    res = requests.get(url, params={ **PARAMS, 'filerNid': filer_nid }, auth=AUTH)\n",
    "    body = res.json()\n",
    "\n",
    "    return body['results']\n",
    "def list_filers():\n",
    "    \"\"\" Get all the elections\n",
    "    \"\"\"\n",
    "    url = f'{BASE_URL}/filer/v101/filers?Limit=100000'\n",
    "\n",
    "    res = requests.get(url, params=PARAMS, auth=AUTH)\n",
    "    body = res.json()\n",
    "\n",
    "    return body['results']\n",
    "def list_elections_influences(id):\n",
    "    \"\"\" Get all the elections\n",
    "    \"\"\"\n",
    "    url = f'{BASE_URL}/election/v101/election-influences?Limit=100000&ElectionNid={id}'\n",
    "\n",
    "    res = requests.get(url, params=PARAMS, auth=AUTH)\n",
    "    body = res.json()\n",
    "\n",
    "    return body['results']\n",
    "def list_elections():\n",
    "    \"\"\" Get all the elections\n",
    "    \"\"\"\n",
    "    url = f'{BASE_URL}/election/v101/elections?Limit=100000'\n",
    "\n",
    "    res = requests.get(url, params=PARAMS, auth=AUTH)\n",
    "    body = res.json()\n",
    "\n",
    "    return body['results']"
   ]
  },
  {
   "cell_type": "code",
   "execution_count": null,
   "metadata": {},
   "outputs": [],
   "source": [
    "filing=get_filing()"
   ]
  },
  {
   "cell_type": "code",
   "execution_count": null,
   "metadata": {},
   "outputs": [],
   "source": [
    "filers_response=list_filers()"
   ]
  },
  {
   "cell_type": "code",
   "execution_count": null,
   "metadata": {},
   "outputs": [],
   "source": [
    "elections=list_elections()"
   ]
  },
  {
   "cell_type": "code",
   "execution_count": null,
   "metadata": {},
   "outputs": [],
   "source": [
    "fppc={'filerNid':[], 'fppc_id':[]}\n",
    "for item in filers_response:\n",
    "    fppc['filerNid'].append(item.get('filerNid',{}))\n",
    "    fppc['fppc_id'].append(item.get('registrations',{}).get('CA SOS',None))\n",
    "fppc_df=pd.DataFrame(fppc)"
   ]
  },
  {
   "cell_type": "code",
   "execution_count": null,
   "metadata": {},
   "outputs": [],
   "source": [
    "files=filing[0]\n",
    "row=[]\n",
    "failed=[]\n",
    "filer_ids=[]\n",
    "filings={'form_type':[],'fppc_id':[],'filer_id':[],'filer_name':[],'candidate_name':[],'filing_id':[],'filing_date':[],'electionNid':[],'types':[]}\n",
    "for file in files:\n",
    "    \n",
    "    form_type=file.get('specificationRef',{}).get('name', 'None')\n",
    "\n",
    "    filer_name=file.get('filerMeta',{}).get('commonName', 'None')\n",
    "\n",
    "    filer_id=file.get('filerMeta',{}).get('filerId', 'None')\n",
    "    filer_ids.append(filer_id)\n",
    "    \n",
    "    filing_id=file.get('filingMeta',{}).get('issuedFilingId', 'None')\n",
    "\n",
    "    filing_date=file.get('filingMeta',{}).get('legalFilingDate', 'None')\n",
    "\n",
    "    fppc_id=file.get('filerMeta',{}).get('strings',{}).get('Registration_CA SOS', 'None')\n",
    "\n",
    "    filings['form_type'].append(form_type)\n",
    "    filings['filer_name'].append(filer_name)\n",
    "    filings['filer_id'].append(filer_id)\n",
    "    filings['filing_id'].append(filing_id)\n",
    "    filings['filing_date'].append(filing_date)\n",
    "    filings['fppc_id'].append(fppc_id)\n"
   ]
  },
  {
   "cell_type": "code",
   "execution_count": null,
   "metadata": {},
   "outputs": [],
   "source": [
    "Candidate_or_Officeholder=[item for item in filers_response if item['committeeTypes']==['Candidate or Officeholder']]\n",
    "Conflict_of_Interest=[item for item in filers_response if item['committeeTypes']==['Conflict of Interest']]\n",
    "General_Purpose=[item for item in filers_response if item['committeeTypes']==['General Purpose']]\n",
    "Independent_Expenditure=[item for item in filers_response if item['committeeTypes']==['Independent Expenditure']]\n",
    "Major_Donor=[item for item in filers_response if item['committeeTypes']==['Major Donor']]\n",
    "Person=[item for item in filers_response if item['committeeTypes']==['Person']]\n",
    "Primarily_Formed_Candidate=[item for item in filers_response if item['committeeTypes']==['Primarily Formed Candidate']]\n",
    "Primarily_Formed_Measure=[item for item in filers_response if item['committeeTypes']==['Primarily Formed Measure']]"
   ]
  },
  {
   "cell_type": "code",
   "execution_count": null,
   "metadata": {},
   "outputs": [],
   "source": [
    "filers={'candidateName':[],'isTerminated':[],'committeeTypes':[],'committeeName':[],'fppc_id':[]}\n",
    "for candidate in Candidate_or_Officeholder:\n",
    "    filers['fppc_id'].append(candidate.get('registrations',{}).get('CA SOS','None'))\n",
    "    filers['candidateName'].append(candidate.get('candidateName', 'None'))\n",
    "    filers['committeeName'].append(candidate.get('filerName', 'None'))\n",
    "    filers['isTerminated'].append(candidate.get('isTerminated', 'None'))\n",
    "    filers['committeeTypes'].append(candidate.get('committeeTypes', 'None')[0])\n"
   ]
  },
  {
   "cell_type": "code",
   "execution_count": null,
   "metadata": {},
   "outputs": [],
   "source": [
    "election_list=[]\n",
    "previous_df=pd.DataFrame()\n",
    "for election in elections:\n",
    "    candidates=election['candidates']\n",
    "    seats=election['seats']\n",
    "    election_name=election['electionCaption']\n",
    "    electionNid=election['electionNid']\n",
    "    election_key={'election_name':election_name, 'electionNid':electionNid}\n",
    "    election_list.append(election_key)\n",
    "    if candidates and seats:\n",
    "        seat_df=pd.DataFrame(seats)\n",
    "        candidate_df=pd.DataFrame(candidates)\n",
    "        merge_df=candidate_df.merge(seat_df, on='seatNid')\n",
    "        current_df=merge_df[['candidateNid','candidateName','seatNid','officeName','electionNid']]\n",
    "        previous_df=pd.concat([previous_df,current_df],ignore_index=True)\n",
    "    #merge_df=merge_df.merge(election_key, on='electionNid')\n",
    "election_df=pd.DataFrame(election_list)\n",
    "final_df=previous_df.merge(election_df, on='electionNid')"
   ]
  },
  {
   "cell_type": "code",
   "execution_count": null,
   "metadata": {},
   "outputs": [],
   "source": [
    "election_ids=list(set(final_df['electionNid'].to_list()))"
   ]
  },
  {
   "cell_type": "code",
   "execution_count": null,
   "metadata": {},
   "outputs": [],
   "source": [
    "previous_df=pd.DataFrame()\n",
    "for id in election_ids:\n",
    "    influences=list_elections_influences(id)\n",
    "    influences_dic={'filerNid': [],'electionNid': [],'seatNid': [],'candidateNid': [],'committeeName':[],'election_name': []} # ,'isWinner':[],'isIncumbent':[]\n",
    "    for candidate in influences:   \n",
    "        influences_dic['filerNid'].append(candidate.get('filerNid', 'None'))\n",
    "        influences_dic['election_name'].append(candidate.get('electionCaption', 'None'))\n",
    "        influences_dic['committeeName'].append(candidate.get('committeeName', 'None'))\n",
    "        influences_dic['electionNid'].append(candidate.get('electionNid', 'None'))\n",
    "        influences_dic['seatNid'].append(candidate.get('seatNid', 'None'))\n",
    "        influences_dic['candidateNid'].append(candidate.get('candidateNid', 'None'))\n",
    "        # influences_dic['isWinner'].append(candidate.get('candidate',{}).get('isWinner', 'None'))\n",
    "        # influences_dic['isIncumbent'].append(candidate.get('candidate',{}).get('isIncumbent', 'None'))\n",
    "        current_df=pd.DataFrame(influences_dic)\n",
    "        current_df=current_df\n",
    "        previous_df=pd.concat([previous_df,current_df],ignore_index=True)\n",
    "df3=previous_df\n"
   ]
  },
  {
   "cell_type": "code",
   "execution_count": null,
   "metadata": {},
   "outputs": [],
   "source": [
    "dfNew = final_df.merge(df3, on=['candidateNid','election_name','electionNid','seatNid'])"
   ]
  },
  {
   "cell_type": "code",
   "execution_count": null,
   "metadata": {},
   "outputs": [],
   "source": [
    "core_df=dfNew[['candidateName','officeName','committeeName','election_name','filerNid']]"
   ]
  },
  {
   "cell_type": "code",
   "execution_count": null,
   "metadata": {},
   "outputs": [],
   "source": [
    "dfdf=core_df.merge(fppc_df, on=['filerNid'])"
   ]
  },
  {
   "cell_type": "code",
   "execution_count": null,
   "metadata": {},
   "outputs": [],
   "source": [
    "dfdf.drop_duplicates().head(60)"
   ]
  },
  {
   "cell_type": "code",
   "execution_count": null,
   "metadata": {},
   "outputs": [],
   "source": []
  }
 ],
 "metadata": {
  "kernelspec": {
   "display_name": "base",
   "language": "python",
   "name": "python3"
  },
  "language_info": {
   "codemirror_mode": {
    "name": "ipython",
    "version": 3
   },
   "file_extension": ".py",
   "mimetype": "text/x-python",
   "name": "python",
   "nbconvert_exporter": "python",
   "pygments_lexer": "ipython3",
   "version": "3.11.4"
  }
 },
 "nbformat": 4,
 "nbformat_minor": 2
}
